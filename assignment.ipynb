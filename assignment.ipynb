{
 "cells": [
  {
   "cell_type": "markdown",
   "id": "5d44f214",
   "metadata": {},
   "source": [
    "# Programming for Data Analysis Assignment\n",
    "\n",
    "### Guidance notes to be deleted\n",
    "\n",
    "What are the likely data points that you collect from a phenomenon? How are the variables related to each other? What does the distribution look like? Is it a normal distribution? A Poisson distribution?\n",
    "\n",
    "Brian: \"So I'm not actually that interested in the actual data. What we're most interested in is the research investigations you do to create the dataset, because presumably there will be some random element in the generation of your data, following some sort of distribution. And I'll be able to re-run your notebook and get a different randomly-generated dataset with the same properties.\"\n",
    "\n",
    "- types of variables and their distributions, relationships to each other\n",
    "- simulate a second dataset based on the original dataset\n",
    "- most of the work will come in the investigation, as you've seen working with numPy and other packages, it only take a few commands to generate significant amounts of data\n",
    "- you'll need to look at each variable and wonder what type of distribution it falls into"
   ]
  },
  {
   "cell_type": "code",
   "execution_count": 1,
   "id": "60aa7fb8",
   "metadata": {},
   "outputs": [],
   "source": [
    "# did you use all of these libraries?\n",
    "import matplotlib.pyplot as plt\n",
    "import numpy as np\n",
    "import pandas as pd\n",
    "import seaborn as sns\n",
    "\n",
    "ash = pd.read_csv('eng_aus_data.csv')"
   ]
  },
  {
   "cell_type": "markdown",
   "id": "948213c3",
   "metadata": {},
   "source": [
    "## Rationale\n",
    "\n",
    "The dataset I have used for this assignment, taken from CricInfo's [Statsguru](https://stats.espncricinfo.com/ci/engine/stats/index.html) query engine, details the match outcome of 153 five-day Test cricket matches played between England and Australia in England, Wales and Australia since the 1st January, 1970. The decision to choose this area to research was taken after reading the chapter \"The Cat That Turned into a Fence\" in Nathan Leamon and Ben Jones' _Hitting Against the Spin: How Cricket Really Works_ (2021, 172-197), which briefly touches on this area as a whole, before conducting some deeper-dives into more specific match scenarios, which are currently beyond my abilities in terms of turning them into a Python project.\n",
    "\n",
    "## Data collection\n",
    "\n",
    "![image](Statsguru.png)\n",
    "\n",
    "To gather this data, I ran three queries through the Statsguru engine, and the links to the results of each is documented in the README document. The first of these was simply a list of all innings in matches between England and Australia, at any venue, after the 1st January, 1970. I then modified the search criteria to only search for matches where England won the toss, and used a VLOOKUP function in Excel to add this as columnar data in a CSV file containing the results of the first query. I then did the same with matches where Australia won the toss, just to double-check my query.\n"
   ]
  },
  {
   "cell_type": "code",
   "execution_count": 2,
   "id": "b6672a64",
   "metadata": {},
   "outputs": [
    {
     "data": {
      "text/html": [
       "<div>\n",
       "<style scoped>\n",
       "    .dataframe tbody tr th:only-of-type {\n",
       "        vertical-align: middle;\n",
       "    }\n",
       "\n",
       "    .dataframe tbody tr th {\n",
       "        vertical-align: top;\n",
       "    }\n",
       "\n",
       "    .dataframe thead th {\n",
       "        text-align: right;\n",
       "    }\n",
       "</style>\n",
       "<table border=\"1\" class=\"dataframe\">\n",
       "  <thead>\n",
       "    <tr style=\"text-align: right;\">\n",
       "      <th></th>\n",
       "      <th>start</th>\n",
       "      <th>host</th>\n",
       "      <th>choice</th>\n",
       "      <th>bat_first</th>\n",
       "      <th>inn1</th>\n",
       "      <th>inn2</th>\n",
       "      <th>winner</th>\n",
       "      <th>outcome</th>\n",
       "    </tr>\n",
       "  </thead>\n",
       "  <tbody>\n",
       "    <tr>\n",
       "      <th>0</th>\n",
       "      <td>22/08/2019</td>\n",
       "      <td>England or Wales</td>\n",
       "      <td>Field</td>\n",
       "      <td>Australia</td>\n",
       "      <td>179</td>\n",
       "      <td>67</td>\n",
       "      <td>England</td>\n",
       "      <td>lost</td>\n",
       "    </tr>\n",
       "    <tr>\n",
       "      <th>1</th>\n",
       "      <td>12/03/1977</td>\n",
       "      <td>Australia</td>\n",
       "      <td>Field</td>\n",
       "      <td>Australia</td>\n",
       "      <td>138</td>\n",
       "      <td>95</td>\n",
       "      <td>Australia</td>\n",
       "      <td>won</td>\n",
       "    </tr>\n",
       "    <tr>\n",
       "      <th>2</th>\n",
       "      <td>10/07/1975</td>\n",
       "      <td>England or Wales</td>\n",
       "      <td>Field</td>\n",
       "      <td>Australia</td>\n",
       "      <td>359</td>\n",
       "      <td>101</td>\n",
       "      <td>Australia</td>\n",
       "      <td>won</td>\n",
       "    </tr>\n",
       "    <tr>\n",
       "      <th>3</th>\n",
       "      <td>11/08/1977</td>\n",
       "      <td>England or Wales</td>\n",
       "      <td>Bat</td>\n",
       "      <td>England</td>\n",
       "      <td>436</td>\n",
       "      <td>103</td>\n",
       "      <td>England</td>\n",
       "      <td>won</td>\n",
       "    </tr>\n",
       "    <tr>\n",
       "      <th>4</th>\n",
       "      <td>01/01/1995</td>\n",
       "      <td>Australia</td>\n",
       "      <td>Bat</td>\n",
       "      <td>England</td>\n",
       "      <td>309</td>\n",
       "      <td>116</td>\n",
       "      <td>draw</td>\n",
       "      <td>draw</td>\n",
       "    </tr>\n",
       "    <tr>\n",
       "      <th>5</th>\n",
       "      <td>18/07/2013</td>\n",
       "      <td>England or Wales</td>\n",
       "      <td>Bat</td>\n",
       "      <td>England</td>\n",
       "      <td>361</td>\n",
       "      <td>128</td>\n",
       "      <td>England</td>\n",
       "      <td>won</td>\n",
       "    </tr>\n",
       "    <tr>\n",
       "      <th>6</th>\n",
       "      <td>13/08/1981</td>\n",
       "      <td>England or Wales</td>\n",
       "      <td>Bat</td>\n",
       "      <td>England</td>\n",
       "      <td>231</td>\n",
       "      <td>130</td>\n",
       "      <td>England</td>\n",
       "      <td>won</td>\n",
       "    </tr>\n",
       "    <tr>\n",
       "      <th>7</th>\n",
       "      <td>14/08/1975</td>\n",
       "      <td>England or Wales</td>\n",
       "      <td>Bat</td>\n",
       "      <td>England</td>\n",
       "      <td>288</td>\n",
       "      <td>135</td>\n",
       "      <td>draw</td>\n",
       "      <td>draw</td>\n",
       "    </tr>\n",
       "    <tr>\n",
       "      <th>8</th>\n",
       "      <td>21/11/2013</td>\n",
       "      <td>Australia</td>\n",
       "      <td>Bat</td>\n",
       "      <td>Australia</td>\n",
       "      <td>295</td>\n",
       "      <td>136</td>\n",
       "      <td>Australia</td>\n",
       "      <td>won</td>\n",
       "    </tr>\n",
       "    <tr>\n",
       "      <th>9</th>\n",
       "      <td>08/06/1972</td>\n",
       "      <td>England or Wales</td>\n",
       "      <td>Bat</td>\n",
       "      <td>England</td>\n",
       "      <td>249</td>\n",
       "      <td>142</td>\n",
       "      <td>England</td>\n",
       "      <td>won</td>\n",
       "    </tr>\n",
       "  </tbody>\n",
       "</table>\n",
       "</div>"
      ],
      "text/plain": [
       "        start              host choice  bat_first  inn1  inn2     winner  \\\n",
       "0  22/08/2019  England or Wales  Field  Australia   179    67    England   \n",
       "1  12/03/1977         Australia  Field  Australia   138    95  Australia   \n",
       "2  10/07/1975  England or Wales  Field  Australia   359   101  Australia   \n",
       "3  11/08/1977  England or Wales    Bat    England   436   103    England   \n",
       "4  01/01/1995         Australia    Bat    England   309   116       draw   \n",
       "5  18/07/2013  England or Wales    Bat    England   361   128    England   \n",
       "6  13/08/1981  England or Wales    Bat    England   231   130    England   \n",
       "7  14/08/1975  England or Wales    Bat    England   288   135       draw   \n",
       "8  21/11/2013         Australia    Bat  Australia   295   136  Australia   \n",
       "9  08/06/1972  England or Wales    Bat    England   249   142    England   \n",
       "\n",
       "  outcome  \n",
       "0    lost  \n",
       "1     won  \n",
       "2     won  \n",
       "3     won  \n",
       "4    draw  \n",
       "5     won  \n",
       "6     won  \n",
       "7    draw  \n",
       "8     won  \n",
       "9     won  "
      ]
     },
     "execution_count": 2,
     "metadata": {},
     "output_type": "execute_result"
    }
   ],
   "source": [
    "ash[:10]"
   ]
  },
  {
   "cell_type": "markdown",
   "id": "85c9f630",
   "metadata": {},
   "source": [
    "The variables I've chosen to include here are those that are often regarded as key points in the early stage of the match. In cricket, winning a coin toss offers a team's captain the choice of batting or fielding first, and captains will make this decision based on a number of factors, such as their team's strengths (or their opponent's weaknesses), the weather forecast, or the condition of the pitch. This choice is seen as an immediate advantage, and much pre-match discussion centres around what each captain's likely decision will be. For this reason, I've included the winner of the coin toss, as well as their choice, as variables.\n",
    "\n",
    "The dataset includes the following variables:\n",
    "- <i>start</i>: the first day of the Test match;\n",
    "- <i>host</i>: the location of the match. Some England games are played in Cardiff, hence 'England or Wales'. In the CricInfo engine this is listed as the particular stadium that hosted the match;\n",
    "- <i>toss</i>: the winner of the pre-match coin toss;\n",
    "- <i>choice</i>: the coin toss winner's decision over whether to bat or field first;\n",
    "- <i>bat_first</i>: the team that batted first, the <i>outcome</i> column is grouped from the perspective of this team;\n",
    "- <i>inn1</i>: the respective total in the first innings of the match;\n",
    "- <i>winner</i>: the team that won the match, or 'draw' if neither did;\n",
    "- <i>outcome</i>: the match result from the perspective of the <i>bat_first</i> team. If <i>bat_first</i> equals 'Australia' and <i>winner</i> equals 'England', then <i>outcome</i> equals 'lost'.\n",
    "\n",
    "Any [declared](https://www.lords.org/mcc/the-laws-of-cricket/declaration-and-forfeiture) scores have been changed to a simple innings total to preserve the numeric dimension of the data. Ties, an extremely rare occurrence in cricket, did not occur in a single one of the matches between the two countries in this dataset; indeed they have only occurred twice in the history of Test cricket since 1877, and are notable enough to have a separate [Wikipedia](https://en.wikipedia.org/wiki/Tied_Test) entry. While ties are an omission from the simulated dataset at the end of this notebook, they are a statistically insignificant omission.\n",
    "\n",
    "## Distribution of Variables\n",
    "\n",
    "### The Host\n",
    "\n",
    "The rivalry between England is generally played as part of a bilateral series known as The Ashes, whereby the two teams meet approximately every two years, alternating as hosts. Each series was historically between four and six matches long, but since the mid-1990s has settled on a consistent five-match format. Of the 153 matches that form this dataset, all but six of these matches (all taking place between 1977 and 1988) were contested as part of The Ashes; overall, Australia has hosted 78 games to the 75 in England or Wales. Due to the regularity of the series, as well as the alternation between host countries, this particular variable is best described as binomially-distributed."
   ]
  },
  {
   "cell_type": "code",
   "execution_count": 3,
   "id": "ce41e8fe",
   "metadata": {},
   "outputs": [
    {
     "data": {
      "image/png": "[encoded data removed]",
      "text/plain": [
       "<Figure size 432x288 with 2 Axes>"
      ]
     },
     "metadata": {
      "needs_background": "light"
     },
     "output_type": "display_data"
    }
   ],
   "source": [
    "# code for historical data based on the tutorial at Python Guides found in the README\n",
    "\n",
    "# number of times each country has hosted a match\n",
    "host = ['england', 'australia']\n",
    "occs = [75, 78]\n",
    "\n",
    "plt.subplot(1, 2, 1)\n",
    "plt.bar(host, occs)\n",
    "plt.title(\"Match hosts, 1970 to present\")\n",
    "\n",
    "# binomially-distributed generated data for simulated England vs Australia matches\n",
    "tests = 200\n",
    "# represents the expected split between hosts in future series\n",
    "host_choice = 0.5\n",
    "sim_host = np.random.binomial(1, host_choice, size=tests)\n",
    "\n",
    "# the val, counts idea is something I got from Ian McLoughlin's notebooks for Fundamentals of Data \n",
    "# Analysis module, which is references in the README document\n",
    "vals, counts = np.unique(sim_host, return_counts=True)\n",
    "plt.subplot(1, 2, 2)\n",
    "plt.bar(vals, counts, width=0.4)\n",
    "plt.title('Eng. vs Aus. host simulation')\n",
    "# replace x-axis values with names\n",
    "plt.xticks(vals, host)\n",
    "plt.show()"
   ]
  },
  {
   "cell_type": "markdown",
   "id": "02d73a01",
   "metadata": {},
   "source": [
    "### The Toss and the Captain's Decision\n",
    "\n",
    "I have chosen 1970 as my starting point as this was the period when ground staff at English cricket grounds were no longer permitted to leave pitches [uncovered](https://www.lords.org/mcc/the-laws-of-cricket/covering-the-pitch). Before this, pitches were not sheltered from any adverse weather once a match started, significantly affecting the conditions of the match, pitch quality, and captain's decisions at the toss. \n",
    "\n",
    "Of course, a coin toss is the classic example used for demonstrating binomial distribution, but while the decision to bat or field is a binary choice, it is far from binomially-distributed in the same sense as a coin toss. Leamon and Jones (2021, 175) state that:\n",
    "\n",
    "    \"The vast majority (89 per cent) of captains who won the toss chose to bat, and this resulted in sides who won the toss having a markedly better chance of winning.\"\n",
    "    \n",
    "The same authors argue that this tendency has proven hard to remove in the era of covered pitches, observing that:\n",
    "\n",
    "    \"In Tests played between 1980 and 2010, nearly twice as many captains have batted first than have chosen to bowl.\"\n",
    "\n",
    "The dataset I have extracted reflects this, with 104 teams choosing to bat, and 49 choosing to bowl. Such a disparity between the choices of whether to bat or field would imply some perceived advantage to bowling first, but wider research, and the dataset itself, suggests otherwise."
   ]
  },
  {
   "cell_type": "code",
   "execution_count": 4,
   "id": "05ad17c7",
   "metadata": {},
   "outputs": [
    {
     "data": {
      "image/png": "[encoded data removed]",
      "text/plain": [
       "<Figure size 432x288 with 1 Axes>"
      ]
     },
     "metadata": {
      "needs_background": "light"
     },
     "output_type": "display_data"
    },
    {
     "data": {
      "image/png": "[encoded data removed]",
      "text/plain": [
       "<Figure size 432x288 with 1 Axes>"
      ]
     },
     "metadata": {
      "needs_background": "light"
     },
     "output_type": "display_data"
    },
    {
     "data": {
      "image/png": "[encoded data removed]",
      "text/plain": [
       "<Figure size 432x288 with 1 Axes>"
      ]
     },
     "metadata": {
      "needs_background": "light"
     },
     "output_type": "display_data"
    }
   ],
   "source": [
    "# representing the 669 tests that occurred before 1970](https://stats.espncricinfo.com/ci/engine/records/team/match_results.html?class=1;id=1969;type=year)\n",
    "# Leamon and Jones: 89 percent of captains chose to bat\n",
    "occs = [595, 74]\n",
    "# number of times each decision has occurred\n",
    "decs = ['bat', 'field']\n",
    "\n",
    "plt.bar(decs, occs)\n",
    "plt.title(\"All Tests before 1970 (Leamon and Jones, 2021)\")\n",
    "plt.show()\n",
    "\n",
    "# plotting real results of dataset for England vs Australia matches since 1970\n",
    "ashchoice = ash['choice']\n",
    "vals, counts = np.unique(ashchoice, return_counts=True)\n",
    "plt.bar(vals, counts)\n",
    "plt.title(\"Eng. vs Aus. since 1970\")\n",
    "plt.show()\n",
    "\n",
    "# binomially-distributed generated data for simulated England vs Australia matches\n",
    "toss = 1\n",
    "# re-interating number of tests we wish to simulate\n",
    "tests = 200\n",
    "# represents the actual proportions of decisions to either field (49) or bat (104) in the extracted dataset\n",
    "bat_choice = 1 - ( 104 / ( 49 + 104 ) )\n",
    "sim_choice = np.random.binomial(toss, bat_choice, tests)\n",
    "\n",
    "vals, counts = np.unique(sim_choice, return_counts=True)\n",
    "plt.bar(vals, counts)\n",
    "plt.title(\"Eng. vs Aus. toss choice simulation\")\n",
    "# replace x-axis values with names\n",
    "plt.xticks(vals, decs)\n",
    "plt.show()"
   ]
  },
  {
   "cell_type": "markdown",
   "id": "37a9796f",
   "metadata": {},
   "source": [
    "While Lawrence Booth ([CricInfo](https://www.espncricinfo.com/story/cricket-s-turning-points-covered-pitches-461172), 2010) argues that the introduction of covered pitches has brought a \"normalisation of batting conditions all round the world\", the decisions of captains has clearly not yet caught up with the change in match outcomes for batting-first teams that has occurred.\n",
    "\n",
    "### Match Outcomes\n",
    "\n",
    "To return to Leamon and Jones, they observed that in Tests occurring between 1980 and 2010: \n",
    "\n",
    "    \"The bat-first bias at the toss would seem to be neutral at best, and probably counter-productive.\"\n",
    "    \n",
    "Their data covering all tests from 1970 puts the win rate of teams that batted first (whether it was their decision or that of their opponents) at 36%, with 28% losing and 35% as draws. In their dataset covering 1980 to 2010, this falls to a 31% win rate, with losses rising to 36%, and draws dropping slightly to 33%. While there was previously a slight advantage to batting first, this is no longer the case.\n",
    "\n",
    "In the extracted data, batting-first teams won 65 of the 153 matches, or 42%, so seven percentage-points ahead of the wider dataset. Draws dropped to 25% (39 matches), and the remaining 49 losses accounted for the final 32%. It was difficult to accurately assess the distribution of this data so I have used the `choice` function to weight the probability of each outcome. "
   ]
  },
  {
   "cell_type": "code",
   "execution_count": 5,
   "id": "19fe08c6",
   "metadata": {},
   "outputs": [
    {
     "data": {
      "image/png": "[encoded data removed]",
      "text/plain": [
       "<Figure size 432x288 with 1 Axes>"
      ]
     },
     "metadata": {
      "needs_background": "light"
     },
     "output_type": "display_data"
    },
    {
     "data": {
      "image/png": "[encoded data removed]",
      "text/plain": [
       "<Figure size 432x288 with 1 Axes>"
      ]
     },
     "metadata": {
      "needs_background": "light"
     },
     "output_type": "display_data"
    },
    {
     "data": {
      "image/png": "[encoded data removed]",
      "text/plain": [
       "<Figure size 432x288 with 1 Axes>"
      ]
     },
     "metadata": {
      "needs_background": "light"
     },
     "output_type": "display_data"
    }
   ],
   "source": [
    "# code based on the tutorial at Python Guides found in the README\n",
    "# data based on that presented visually in Leamon and Jones (2021, 174-6), in charts \n",
    "# labelled \"Team Batting First - Before 1970\" and \"Team Batting First - 1980-2010\"\n",
    "\n",
    "result = ['win', 'draw', 'loss']\n",
    "before = [36, 35, 28]\n",
    "after = [31, 33, 36]\n",
    "\n",
    "x_axis = np.arange(len(result))\n",
    "\n",
    "# adding or subtracting a value from the x-axis prevents items from overlapping, the exact value being dependent on\n",
    "# the value given to the width parameter.\n",
    "\n",
    "plt.bar(x_axis - 0.2, before, width=0.4, label = 'Before 1970')\n",
    "plt.bar(x_axis + 0.2, after, width=0.4, label = '1980-2010')\n",
    "\n",
    "# Xticks replaces the values generated by the arange function above with the actual value of the result\n",
    "\n",
    "plt.xticks(x_axis, result)\n",
    "\n",
    "plt.legend(loc='lower right')\n",
    "plt.title(\"Teams batting first, all tests (Leamon and Jones, 2021)\")\n",
    "plt.show()\n",
    "\n",
    "# plotting real match outcomes of dataset for England vs Australia matches since 1970\n",
    "\n",
    "plt.hist(ash['outcome'])\n",
    "plt.title(\"Teams batting first, Eng. vs Aus. since 1970\")\n",
    "plt.show()\n",
    "\n",
    "# weighted randomly-generated data for simulated England vs Australia matches, based on PyNative tutorial\n",
    "# referenced in the README\n",
    "\n",
    "# 3 outcomes: win, draw and loss\n",
    "outcomes = 3\n",
    "# re-interating number of tests we wish to simulate\n",
    "tests = 200\n",
    "# probability of each outcome in the extracted data, these must sum to 1\n",
    "pval = [0.42, 0.25, 0.33] # done in win-draw-loss order\n",
    "sim_outcome = np.random.choice(outcomes, size=tests, p=pval)\n",
    "vals, counts = np.unique(sim_outcome, return_counts=True)\n",
    "plt.bar(vals, counts)\n",
    "plt.title(\"Eng. vs Aus. match outcome simulation\")\n",
    "# replace x-axis values with names\n",
    "plt.xticks(vals, result)\n",
    "plt.show()"
   ]
  },
  {
   "cell_type": "markdown",
   "id": "ee5c0d0c",
   "metadata": {},
   "source": [
    "As for the actual winning team, Australia's dominance of the 1990s and early 2000s ensures that their 70 victories account for 46% of all matches, while England account for just 29% (29%), with 39 draws (as above). Since this item is dependent on the match outcome variable, I'm not going to simulate this."
   ]
  },
  {
   "cell_type": "code",
   "execution_count": 6,
   "id": "a4668d0f",
   "metadata": {},
   "outputs": [
    {
     "data": {
      "image/png": "[encoded data removed]",
      "text/plain": [
       "<Figure size 432x288 with 1 Axes>"
      ]
     },
     "metadata": {
      "needs_background": "light"
     },
     "output_type": "display_data"
    }
   ],
   "source": [
    "# plotting winning team for England vs Australia matches since 1970\n",
    "\n",
    "plt.hist(ash['winner'])\n",
    "plt.title(\"Winning team, Eng. vs Aus. since 1970\")\n",
    "plt.show()"
   ]
  },
  {
   "cell_type": "markdown",
   "id": "b6c5996a",
   "metadata": {},
   "source": [
    "### Team batting first\n",
    "\n",
    "This one requires slightly less thought, the extracted data shows a nearly even split of 77 to 76 in favour of England here, so a binomial distribution will again suffice in generating out simulated data."
   ]
  },
  {
   "cell_type": "code",
   "execution_count": 7,
   "id": "1679d378",
   "metadata": {},
   "outputs": [
    {
     "data": {
      "image/png": "[encoded data removed]",
      "text/plain": [
       "<Figure size 432x288 with 1 Axes>"
      ]
     },
     "metadata": {
      "needs_background": "light"
     },
     "output_type": "display_data"
    },
    {
     "data": {
      "image/png": "[encoded data removed]",
      "text/plain": [
       "<Figure size 432x288 with 1 Axes>"
      ]
     },
     "metadata": {
      "needs_background": "light"
     },
     "output_type": "display_data"
    }
   ],
   "source": [
    "# plotting real match outcomes of dataset for England vs Australia matches since 1970\n",
    "\n",
    "plt.hist(ash['bat_first'])\n",
    "plt.title(\"Teams batting first, Eng. vs Aus. since 1970\")\n",
    "plt.show()\n",
    "\n",
    "# binomially-distributed generated match outcomes for simulated England vs Australia matches\n",
    "\n",
    "# re-interating number of tests we wish to simulate\n",
    "tests = 200\n",
    "# represents the split in teams batting first\n",
    "bat_team = 0.5\n",
    "sim_bat_first = np.random.binomial(1, bat_team, size=tests)\n",
    "\n",
    "plt.hist(sim_bat_first)\n",
    "plt.title(\"Eng. vs Aus., simulated batting-first teams\")\n",
    "plt.show()"
   ]
  },
  {
   "cell_type": "markdown",
   "id": "d54b4b34",
   "metadata": {},
   "source": [
    "### First Innings Scores\n",
    "\n",
    "Of course, once the match starts, the idea is for teams to score as many runs as possible, while leaving enough time to remove ten of their opponent's eleven (there must always be two on the field at the same time) batters. If a team has not completed both of their innings after the allocated five days, then the match is a draw. The most famous draws are those that occur against all odds, and:\n",
    "\n",
    "    \"a reminder that cricket isn’t merely about wins and losses... uncompromising and unpredictable; it was Test match cricket at its purest.\" (Lavalette, 2018)\n",
    "    \n",
    "The logical conclusion is that there is a theoretical ceiling to the number of runs a team is likely to score in any innings, even if they could score as many as they liked. This is one of the many things that sets cricket apart from other sports, it is as if a football team scored three times as many goals as their opponent, but the match was deemed a draw because their opponent had less shots on target.\n",
    "\n",
    "At the time of writing, a match between England and Pakistan is almost certainly headed for a draw after an extremely bat-friendly pitch in Rawalpindi produced 657 runs in England's first innings, and over 500 in Pakistan's, leading one cricket writer to opine that, \"Big runs get you headlines - and a few records - but wickets win you matches.\" ([Ehantharajah](https://www.espncricinfo.com/story/pakistan-vs-england-1st-test-rawalpindi-england-feel-the-funk-in-bid-to-overcome-unforgiving-pindi-pitch-1347874), 2022).\n",
    "\n",
    "Returning to the extracted dataset, a 657 would rank higher than any first-innings total achieved in an England vs Australia fixture since 1970, while Pakistan's 579 would rank 8th in second-innings scores. run query again to see how many of those top scores are declarations, highlighting that theoretical ceiling\n",
    "\n",
    "Place England's 657 in Rawalpindi in context, where does it fall amongst all first innings scores in the extract?, clarify Pakistan's first-innings score"
   ]
  },
  {
   "cell_type": "code",
   "execution_count": 8,
   "id": "37cef026",
   "metadata": {},
   "outputs": [
    {
     "data": {
      "image/png": "[encoded data removed]",
      "text/plain": [
       "<Figure size 432x288 with 1 Axes>"
      ]
     },
     "metadata": {
      "needs_background": "light"
     },
     "output_type": "display_data"
    },
    {
     "data": {
      "image/png": "[encoded data removed]",
      "text/plain": [
       "<Figure size 432x288 with 1 Axes>"
      ]
     },
     "metadata": {
      "needs_background": "light"
     },
     "output_type": "display_data"
    }
   ],
   "source": [
    "first = ash['inn1']\n",
    "# establish minimum, modal and maximum values for use in triangular simulation\n",
    "fmin = first.min()\n",
    "fmode = first.mode()\n",
    "fmax = first.max()\n",
    "# re-interating number of tests we wish to simulate\n",
    "tests = 200\n",
    "\n",
    "plt.title(\"First Innings Scores, Eng vs Aus since 1970\")\n",
    "plt.hist(first, bins=24)\n",
    "plt.show()\n",
    "\n",
    "plt.title(\"First Innings Score Simulation\")\n",
    "sim_first = np.random.triangular(left=fmin, mode=fmode, right=fmax, size=tests)\n",
    "plt.hist(sim_first, bins=24)\n",
    "plt.show()"
   ]
  },
  {
   "cell_type": "markdown",
   "id": "d5740094",
   "metadata": {},
   "source": [
    "### Second Innings Scores\n",
    "\n",
    "Just like the first innings, there is a theoretical ceiling to how many runs a team can score in the second innings if it expects to win; a team responding to a small first-innings total from their opponent would want to put enough runs on the board to establish dominance, but not bat for so long that their opponent can try and bat out the remaining time for a draw. The range of scores here is 67 to 674, similar to the 60 to 653 range of the first innings, with a similar modal bin around the 300 mark."
   ]
  },
  {
   "cell_type": "code",
   "execution_count": 9,
   "id": "b08b3f14",
   "metadata": {},
   "outputs": [
    {
     "data": {
      "image/png": "[encoded data removed]",
      "text/plain": [
       "<Figure size 432x288 with 1 Axes>"
      ]
     },
     "metadata": {
      "needs_background": "light"
     },
     "output_type": "display_data"
    },
    {
     "data": {
      "image/png": "[encoded data removed]",
      "text/plain": [
       "<Figure size 432x288 with 1 Axes>"
      ]
     },
     "metadata": {
      "needs_background": "light"
     },
     "output_type": "display_data"
    }
   ],
   "source": [
    "second = ash['inn2']\n",
    "# establish minimum, modal and maximum values for use in triangular simulation\n",
    "smin = second.min()\n",
    "smode = second.mode()\n",
    "smax = second.max()\n",
    "# re-interating number of tests we wish to simulate\n",
    "tests = 200\n",
    "\n",
    "plt.title(\"Second Innings Scores, Eng vs Aus since 1970\")\n",
    "plt.hist(second, bins=24)\n",
    "plt.show()\n",
    "\n",
    "plt.title(\"Second Innings Score Simulation\")\n",
    "sim_second = np.random.triangular(left=smin, mode=smode, right=smax, size=tests)\n",
    "plt.hist(sim_second, bins=24)\n",
    "plt.show()"
   ]
  },
  {
   "cell_type": "markdown",
   "id": "9214883f",
   "metadata": {},
   "source": [
    "## Data Synthesis\n",
    "\n",
    "Now that I have a simulated dataset for each variable, it is just a matter of plugging these into a Pandas dataframe."
   ]
  },
  {
   "cell_type": "code",
   "execution_count": 10,
   "id": "1dcd650f",
   "metadata": {},
   "outputs": [
    {
     "data": {
      "text/html": [
       "<div>\n",
       "<style scoped>\n",
       "    .dataframe tbody tr th:only-of-type {\n",
       "        vertical-align: middle;\n",
       "    }\n",
       "\n",
       "    .dataframe tbody tr th {\n",
       "        vertical-align: top;\n",
       "    }\n",
       "\n",
       "    .dataframe thead th {\n",
       "        text-align: right;\n",
       "    }\n",
       "</style>\n",
       "<table border=\"1\" class=\"dataframe\">\n",
       "  <thead>\n",
       "    <tr style=\"text-align: right;\">\n",
       "      <th></th>\n",
       "      <th>host</th>\n",
       "      <th>choice</th>\n",
       "      <th>bat_first</th>\n",
       "      <th>inn1</th>\n",
       "      <th>inn2</th>\n",
       "      <th>outcome</th>\n",
       "      <th>winner</th>\n",
       "    </tr>\n",
       "  </thead>\n",
       "  <tbody>\n",
       "    <tr>\n",
       "      <th>2023-01-31</th>\n",
       "      <td>England</td>\n",
       "      <td>bat</td>\n",
       "      <td>Australia</td>\n",
       "      <td>261</td>\n",
       "      <td>347</td>\n",
       "      <td>lost</td>\n",
       "      <td>England</td>\n",
       "    </tr>\n",
       "    <tr>\n",
       "      <th>2023-05-31</th>\n",
       "      <td>Australia</td>\n",
       "      <td>field</td>\n",
       "      <td>Australia</td>\n",
       "      <td>403</td>\n",
       "      <td>322</td>\n",
       "      <td>won</td>\n",
       "      <td>Australia</td>\n",
       "    </tr>\n",
       "    <tr>\n",
       "      <th>2023-09-30</th>\n",
       "      <td>Australia</td>\n",
       "      <td>field</td>\n",
       "      <td>Australia</td>\n",
       "      <td>222</td>\n",
       "      <td>473</td>\n",
       "      <td>draw</td>\n",
       "      <td>draw</td>\n",
       "    </tr>\n",
       "    <tr>\n",
       "      <th>2024-01-31</th>\n",
       "      <td>Australia</td>\n",
       "      <td>bat</td>\n",
       "      <td>Australia</td>\n",
       "      <td>196</td>\n",
       "      <td>232</td>\n",
       "      <td>draw</td>\n",
       "      <td>draw</td>\n",
       "    </tr>\n",
       "    <tr>\n",
       "      <th>2024-05-31</th>\n",
       "      <td>England</td>\n",
       "      <td>bat</td>\n",
       "      <td>England</td>\n",
       "      <td>516</td>\n",
       "      <td>260</td>\n",
       "      <td>won</td>\n",
       "      <td>England</td>\n",
       "    </tr>\n",
       "    <tr>\n",
       "      <th>...</th>\n",
       "      <td>...</td>\n",
       "      <td>...</td>\n",
       "      <td>...</td>\n",
       "      <td>...</td>\n",
       "      <td>...</td>\n",
       "      <td>...</td>\n",
       "      <td>...</td>\n",
       "    </tr>\n",
       "    <tr>\n",
       "      <th>2088-01-31</th>\n",
       "      <td>England</td>\n",
       "      <td>bat</td>\n",
       "      <td>England</td>\n",
       "      <td>378</td>\n",
       "      <td>419</td>\n",
       "      <td>draw</td>\n",
       "      <td>draw</td>\n",
       "    </tr>\n",
       "    <tr>\n",
       "      <th>2088-05-31</th>\n",
       "      <td>England</td>\n",
       "      <td>bat</td>\n",
       "      <td>England</td>\n",
       "      <td>111</td>\n",
       "      <td>212</td>\n",
       "      <td>lost</td>\n",
       "      <td>Australia</td>\n",
       "    </tr>\n",
       "    <tr>\n",
       "      <th>2088-09-30</th>\n",
       "      <td>England</td>\n",
       "      <td>bat</td>\n",
       "      <td>Australia</td>\n",
       "      <td>237</td>\n",
       "      <td>453</td>\n",
       "      <td>won</td>\n",
       "      <td>Australia</td>\n",
       "    </tr>\n",
       "    <tr>\n",
       "      <th>2089-01-31</th>\n",
       "      <td>England</td>\n",
       "      <td>field</td>\n",
       "      <td>England</td>\n",
       "      <td>268</td>\n",
       "      <td>281</td>\n",
       "      <td>draw</td>\n",
       "      <td>draw</td>\n",
       "    </tr>\n",
       "    <tr>\n",
       "      <th>2089-05-31</th>\n",
       "      <td>England</td>\n",
       "      <td>bat</td>\n",
       "      <td>England</td>\n",
       "      <td>202</td>\n",
       "      <td>375</td>\n",
       "      <td>lost</td>\n",
       "      <td>Australia</td>\n",
       "    </tr>\n",
       "  </tbody>\n",
       "</table>\n",
       "<p>200 rows × 7 columns</p>\n",
       "</div>"
      ],
      "text/plain": [
       "                 host choice  bat_first  inn1  inn2 outcome     winner\n",
       "2023-01-31    England    bat  Australia   261   347    lost    England\n",
       "2023-05-31  Australia  field  Australia   403   322     won  Australia\n",
       "2023-09-30  Australia  field  Australia   222   473    draw       draw\n",
       "2024-01-31  Australia    bat  Australia   196   232    draw       draw\n",
       "2024-05-31    England    bat    England   516   260     won    England\n",
       "...               ...    ...        ...   ...   ...     ...        ...\n",
       "2088-01-31    England    bat    England   378   419    draw       draw\n",
       "2088-05-31    England    bat    England   111   212    lost  Australia\n",
       "2088-09-30    England    bat  Australia   237   453     won  Australia\n",
       "2089-01-31    England  field    England   268   281    draw       draw\n",
       "2089-05-31    England    bat    England   202   375    lost  Australia\n",
       "\n",
       "[200 rows x 7 columns]"
      ]
     },
     "execution_count": 10,
     "metadata": {},
     "output_type": "execute_result"
    }
   ],
   "source": [
    "# a reminder of the ranges created so far\n",
    "sim_host\n",
    "sim_choice\n",
    "sim_bat_first\n",
    "sim_first\n",
    "sim_second\n",
    "sim_outcome\n",
    "\n",
    "# I've added some random dates here rather than attempting to cluster them. Ideally I would create five dates \n",
    "# over a period of five weeks, then create another 18 to 24 months later to mimick the series itself\n",
    "dates = pd.date_range(start='1/1/2023', periods=200, freq='4M')\n",
    "\n",
    "length = len(dates)\n",
    "sim = pd.DataFrame(data=sim_host,index=dates,columns=['host']) # 0 to England, 1 to Australia\n",
    "\n",
    "# add columns using other simulated data\n",
    "sim['choice'] = sim_choice\n",
    "sim['bat_first'] = sim_bat_first\n",
    "sim['inn1'] = sim_first\n",
    "sim['inn2'] = sim_second\n",
    "sim['outcome'] = sim_outcome\n",
    "\n",
    "# replace values, code from Datagy.io tutorial in references\n",
    "sim['host'] = sim['host'].replace(to_replace=0, value='Australia')\n",
    "sim['host'] = sim['host'].replace(to_replace=1, value='England') \n",
    "sim['choice'] = sim['choice'].replace(to_replace=0, value='bat')\n",
    "sim['choice'] = sim['choice'].replace(to_replace=1, value='field')\n",
    "sim['bat_first'] = sim['bat_first'].replace(to_replace=0, value='Australia')\n",
    "sim['bat_first'] = sim['bat_first'].replace(to_replace=1, value='England') \n",
    "sim['outcome'] = sim['outcome'].replace(to_replace=0, value='won')\n",
    "sim['outcome'] = sim['outcome'].replace(to_replace=1, value='draw')\n",
    "sim['outcome'] = sim['outcome'].replace(to_replace=2, value='lost')\n",
    "\n",
    "# create winner column based on existing values in outcome and bat_first columns\n",
    "sim['winner'] = 0\n",
    "\n",
    "# based on Data To Fish tutorial referenced in README\n",
    "sim.loc[(sim['outcome'] == 'draw'), 'winner'] = 'draw'  \n",
    "sim.loc[(sim['outcome'] == 'won') & (sim['bat_first'] == 'Australia'), 'winner'] = 'Australia'\n",
    "sim.loc[(sim['outcome'] == 'won') & (sim['bat_first'] == 'England'), 'winner'] = 'England'  \n",
    "sim.loc[(sim['outcome'] == 'lost') & (sim['bat_first'] == 'Australia'), 'winner'] = 'England'\n",
    "sim.loc[(sim['outcome'] == 'lost') & (sim['bat_first'] == 'England'), 'winner'] = 'Australia'\n",
    "\n",
    "# convert items to integers, see Geeksforgeeks tutorial in references\n",
    "sim['inn1'] = sim['inn1'].astype(int)\n",
    "sim['inn2'] = sim['inn2'].astype(int)\n",
    "sim"
   ]
  },
  {
   "cell_type": "code",
   "execution_count": 11,
   "id": "c1f7249b",
   "metadata": {},
   "outputs": [
    {
     "data": {
      "image/png": "[encoded data removed]",
      "text/plain": [
       "<Figure size 432x288 with 2 Axes>"
      ]
     },
     "metadata": {
      "needs_background": "light"
     },
     "output_type": "display_data"
    },
    {
     "data": {
      "image/png": "[encoded data removed]",
      "text/plain": [
       "<Figure size 432x288 with 2 Axes>"
      ]
     },
     "metadata": {
      "needs_background": "light"
     },
     "output_type": "display_data"
    },
    {
     "data": {
      "image/png": "[encoded data removed]",
      "text/plain": [
       "<Figure size 432x288 with 2 Axes>"
      ]
     },
     "metadata": {
      "needs_background": "light"
     },
     "output_type": "display_data"
    }
   ],
   "source": [
    "# plots of variables to check distributions\n",
    "\n",
    "plt.subplot(1,2,1)\n",
    "plt.hist(sim['host'])\n",
    "plt.title(\"Match hosts, 2023-2089\")\n",
    "plt.subplot(1,2,2)\n",
    "plt.hist(sim['choice'])\n",
    "plt.title(\"Captain's choices, 2023-2089\")\n",
    "plt.show()\n",
    "\n",
    "plt.subplot(1,2,1)\n",
    "plt.hist(sim['bat_first'])\n",
    "plt.title(\"Team batting first, 2023-2089\")\n",
    "plt.subplot(1,2,2)\n",
    "plt.hist(sim['inn1'], bins=24)\n",
    "plt.title(\"1st innings scores, 2023-2089\")\n",
    "plt.show()\n",
    "\n",
    "plt.subplot(1,2,1)\n",
    "plt.hist(sim['inn2'], bins=24)\n",
    "plt.title(\"2nd innings scores, 2023-2089\")\n",
    "plt.subplot(1,2,2)\n",
    "plt.hist(sim['outcome'])\n",
    "plt.title(\"Match outcomes, 2023-2089\")\n",
    "plt.show()"
   ]
  },
  {
   "cell_type": "markdown",
   "id": "13db23dd",
   "metadata": {},
   "source": [
    "## Evaluation\n",
    "\n",
    "Cricket is an infinitely complex sport full of discrete data points. Unlike other sports, cricket contains pretty much a complete dataset of every event that occurs\n",
    "- lack of declaration data\n",
    "- hard to generate clustered dates\n",
    "- exclusion of third- and fourth-innings scores, too many scenarios to work with, if a team bats second and fails to come within 250 runs of the first-innings total, the opposition captain can enforce a [follow-on](https://www.lords.org/mcc/the-laws-of-cricket/the-follow-on), where the team batting second bats the third innings. While this data is obtainable in the query engine, there were too many permutations given the time I had to complete the assignment\n",
    "- some games do not have a fourth inning, either because the team following-on fails to get a total with their two innings that surpasses that of their opponent, or the game is significantly curtailed by adverse conditions.\n",
    "- different grounds are known for being particularly unforgiving to opponents, such as the Gabba in Brisbane (L&J, 174). Again this data is available in the query engine, but I opted for a simpler binary model of host country\n",
    "- this doesn't seem to take into account the effect of variables on each other. I can identify this but I cannot work out how to split the generation of one variable by another, it is fine saying \"I need a triangular distribution of first-innings scores for 200 Test matches, but this is clearly affected by other variables (PLOT ENGLAND RESULTS AND AUSTRALIA RESULTS FOR THIS SEPARATELY)"
   ]
  },
  {
   "cell_type": "code",
   "execution_count": 12,
   "id": "60840038",
   "metadata": {},
   "outputs": [
    {
     "data": {
      "text/plain": [
       "<seaborn.axisgrid.PairGrid at 0x2024a45c3d0>"
      ]
     },
     "execution_count": 12,
     "metadata": {},
     "output_type": "execute_result"
    },
    {
     "data": {
      "image/png": "[encoded data removed]",
      "text/plain": [
       "<Figure size 229x180 with 2 Axes>"
      ]
     },
     "metadata": {
      "needs_background": "light"
     },
     "output_type": "display_data"
    }
   ],
   "source": [
    "inns2 = ash[['bat_first','inn1']]\n",
    "\n",
    "sns.pairplot(inns2,hue='bat_first')"
   ]
  },
  {
   "cell_type": "code",
   "execution_count": null,
   "id": "261b50af",
   "metadata": {},
   "outputs": [],
   "source": []
  }
 ],
 "metadata": {
  "kernelspec": {
   "display_name": "Python 3 (ipykernel)",
   "language": "python",
   "name": "python3"
  },
  "language_info": {
   "codemirror_mode": {
    "name": "ipython",
    "version": 3
   },
   "file_extension": ".py",
   "mimetype": "text/x-python",
   "name": "python",
   "nbconvert_exporter": "python",
   "pygments_lexer": "ipython3",
   "version": "3.9.12"
  }
 },
 "nbformat": 4,
 "nbformat_minor": 5
}
