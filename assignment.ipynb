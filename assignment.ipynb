{
 "cells": [
  {
   "cell_type": "markdown",
   "id": "5d44f214",
   "metadata": {},
   "source": [
    "# Programming for Data Analysis Assigment\n",
    "\n",
    "## Initial file creation, assignment to be specified at a later date\n",
    "\n",
    "\"For this project you must create a dataset by simulating a real-world phenomenon of your chooising. You may pick any phenomenon you wish - you might pick on that is of interest to you in your personal or professional life. Then, rather than collect data related to the phenomenon, you should model and synthesise such data using Python. We suggest you use the `numpy.random` package for this purpose.\n",
    "\n",
    "Specificailly, in this project you should:\n",
    "\n",
    "1. Choose a real-world phenomenon that can be measured and for which you could collect at least one-hundred data points across at least four different variables;\n",
    "\n",
    "2. Investigate the types of variables involved, their likely distributions, and their relationships with each other;\n",
    "\n",
    "3. Synthesise/simulate a dataset as closely matching their properties as possible;\n",
    "\n",
    "4. Detail your research and implement the simulation in a Jupyter notebook - the dataset itself can simply be display in an output cell within the notebook.\n",
    "\n",
    "Note that this project is about simulation - you must synthesise a dataset. Some students may already have some real-world datasets in their own files. It is okay to base your synthesised dataset on these should you wish (please reference it if you do), but the main task is in this project is to create a synthesised dataset.\"\n",
    "\n",
    "For point two, it is not enough that you end up with a totally random dataset, you need to see which distribution might be most appropriate for that particular item. What are the likely data points that you collect from a phenomenon? How are the variables related to each other? What does the distribution look like? Is it a normal distribution? A Poisson distribution?\n",
    "\n",
    "It is sufficient for the dataset to be a pandas dataframe, it doesn't need to be a CSV or XML file.\n",
    "\n",
    "Brian: \"So I'm not actually that interested in the actual data. What we're most interested in is the research investigations you do to create the dataset, because presumably there will be some random element in the generation of your data, following some sort of distribution. And I'll be able to re-run your notebook and get a different randomly-generated dataset with the same properties.\""
   ]
  },
  {
   "cell_type": "markdown",
   "id": "241be816",
   "metadata": {},
   "source": [
    "## Basic Plan\n",
    "\n",
    "So you need to find a basic dataset that can be extrapolated, rather than something comprehensive. The starting points should probably be either Hitting Against the Spin or the Vollman hockey book. This could be something team-based or player-based, something that can be condensed into small enough chunks that it fits into a 100 row by 5 column (for the four variables) grid. Could even be the amount of wins gained from winning the toss? Variables would be: win or loss of toss, choice of batting/bowling first, win/loss/draw/tie/no result of match, total runs in the match.\n",
    "\n",
    "Vollman definitely tell you where he sources all of his data from, and I'm guessing it will be either NHL.com or hockey-reference.com. HAIS the spin should just be a matter of going to Cricinfo and seeing what we can dig out from their core metrics.\n",
    "\n",
    "After this you'll need to show investigation of each variable, and plot them accordingly to see if a distribution can be identified. Once these are identified, you'll need to use the latest notebooks from this module to simulate a dataset accordingly."
   ]
  }
 ],
 "metadata": {
  "kernelspec": {
   "display_name": "Python 3 (ipykernel)",
   "language": "python",
   "name": "python3"
  },
  "language_info": {
   "codemirror_mode": {
    "name": "ipython",
    "version": 3
   },
   "file_extension": ".py",
   "mimetype": "text/x-python",
   "name": "python",
   "nbconvert_exporter": "python",
   "pygments_lexer": "ipython3",
   "version": "3.9.12"
  }
 },
 "nbformat": 4,
 "nbformat_minor": 5
}
