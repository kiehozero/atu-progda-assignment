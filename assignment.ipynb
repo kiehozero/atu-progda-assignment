{
 "cells": [
  {
   "cell_type": "markdown",
   "id": "5d44f214",
   "metadata": {},
   "source": [
    "# Programming for Data Analysis Assignment\n",
    "\n",
    "### Guidance notes to be deleted\n",
    "\n",
    "What are the likely data points that you collect from a phenomenon? How are the variables related to each other? What does the distribution look like? Is it a normal distribution? A Poisson distribution?\n",
    "\n",
    "Brian: \"So I'm not actually that interested in the actual data. What we're most interested in is the research investigations you do to create the dataset, because presumably there will be some random element in the generation of your data, following some sort of distribution. And I'll be able to re-run your notebook and get a different randomly-generated dataset with the same properties.\"\n",
    "\n",
    "- types of variables and their distributions, relationships to each other\n",
    "- simulate a second dataset based on the original dataset\n",
    "- most of the work will come in the investigation, as you've seen working with numPy and other packages, it only take a few commands to generate significant amounts of data\n",
    "- you'll need to look at each variable and wonder what type of distribution it falls into"
   ]
  },
  {
   "cell_type": "code",
   "execution_count": 7,
   "id": "60aa7fb8",
   "metadata": {},
   "outputs": [],
   "source": [
    "# did you use all of these libraries?\n",
    "import matplotlib.pyplot as plt\n",
    "import numpy as np\n",
    "import pandas as pd\n",
    "import seaborn as sns\n",
    "\n",
    "ash = pd.read_csv('eng_aus_data.csv')"
   ]
  },
  {
   "cell_type": "markdown",
   "id": "948213c3",
   "metadata": {},
   "source": [
    "## Rationale\n",
    "\n",
    "The dataset I have used for this assignment, taken from CricInfo's [Statsguru](https://stats.espncricinfo.com/ci/engine/stats/index.html) query engine, details the match outcome of 153 five-day Test cricket matches played between England and Australia in England, Wales and Australia since the 1st January, 1970. The decision to choose this area to research was taken after reading the chapter \"The Cat That Turned into a Fence\" in Nathan Leamon and Ben Jones' _Hitting Against the Spin: How Cricket Really Works_ (2021, 172-197), which briefly touches on this area as a whole, before conducting some deeper-dives into more specific match scenarios, which are currently beyond my abilities in terms of turning them into a Python project.\n",
    "\n",
    "## Data collection\n",
    "\n",
    "![image](Statsguru.png)\n",
    "\n",
    "To gather this data, I ran three queries through the Statsguru engine, and the links to the results of each is documented in the README document. The first of these was simply a list of all innings in matches between England and Australia, at any venue, after the 1st January, 1970. I then modified the search criteria to only search for matches where England won the toss, and used a VLOOKUP function in Excel to add this as columnar data in a CSV file containing the results of the first query. I then did the same with matches where Australia won the toss, just to double-check my query.\n"
   ]
  },
  {
   "cell_type": "code",
   "execution_count": 8,
   "id": "b6672a64",
   "metadata": {},
   "outputs": [
    {
     "data": {
      "text/html": [
       "<div>\n",
       "<style scoped>\n",
       "    .dataframe tbody tr th:only-of-type {\n",
       "        vertical-align: middle;\n",
       "    }\n",
       "\n",
       "    .dataframe tbody tr th {\n",
       "        vertical-align: top;\n",
       "    }\n",
       "\n",
       "    .dataframe thead th {\n",
       "        text-align: right;\n",
       "    }\n",
       "</style>\n",
       "<table border=\"1\" class=\"dataframe\">\n",
       "  <thead>\n",
       "    <tr style=\"text-align: right;\">\n",
       "      <th></th>\n",
       "      <th>start</th>\n",
       "      <th>host</th>\n",
       "      <th>toss</th>\n",
       "      <th>choice</th>\n",
       "      <th>bat_first</th>\n",
       "      <th>inn1</th>\n",
       "      <th>inn2</th>\n",
       "      <th>inn3</th>\n",
       "      <th>inn4</th>\n",
       "      <th>winner</th>\n",
       "      <th>outcome</th>\n",
       "    </tr>\n",
       "  </thead>\n",
       "  <tbody>\n",
       "    <tr>\n",
       "      <th>0</th>\n",
       "      <td>27/11/1970</td>\n",
       "      <td>Australia</td>\n",
       "      <td>Australia</td>\n",
       "      <td>Bat</td>\n",
       "      <td>Australia</td>\n",
       "      <td>433</td>\n",
       "      <td>464</td>\n",
       "      <td>214</td>\n",
       "      <td>39</td>\n",
       "      <td>draw</td>\n",
       "      <td>draw</td>\n",
       "    </tr>\n",
       "    <tr>\n",
       "      <th>1</th>\n",
       "      <td>11/12/1970</td>\n",
       "      <td>Australia</td>\n",
       "      <td>Australia</td>\n",
       "      <td>Field</td>\n",
       "      <td>England</td>\n",
       "      <td>397</td>\n",
       "      <td>440</td>\n",
       "      <td>287</td>\n",
       "      <td>100</td>\n",
       "      <td>draw</td>\n",
       "      <td>draw</td>\n",
       "    </tr>\n",
       "    <tr>\n",
       "      <th>2</th>\n",
       "      <td>09/01/1971</td>\n",
       "      <td>Australia</td>\n",
       "      <td>England</td>\n",
       "      <td>Bat</td>\n",
       "      <td>England</td>\n",
       "      <td>332</td>\n",
       "      <td>236</td>\n",
       "      <td>319</td>\n",
       "      <td>116</td>\n",
       "      <td>England</td>\n",
       "      <td>won</td>\n",
       "    </tr>\n",
       "    <tr>\n",
       "      <th>3</th>\n",
       "      <td>21/01/1971</td>\n",
       "      <td>Australia</td>\n",
       "      <td>Australia</td>\n",
       "      <td>Bat</td>\n",
       "      <td>Australia</td>\n",
       "      <td>493</td>\n",
       "      <td>392</td>\n",
       "      <td>169</td>\n",
       "      <td>161</td>\n",
       "      <td>draw</td>\n",
       "      <td>draw</td>\n",
       "    </tr>\n",
       "    <tr>\n",
       "      <th>4</th>\n",
       "      <td>29/01/1971</td>\n",
       "      <td>Australia</td>\n",
       "      <td>England</td>\n",
       "      <td>Bat</td>\n",
       "      <td>England</td>\n",
       "      <td>470</td>\n",
       "      <td>235</td>\n",
       "      <td>233</td>\n",
       "      <td>328</td>\n",
       "      <td>draw</td>\n",
       "      <td>draw</td>\n",
       "    </tr>\n",
       "    <tr>\n",
       "      <th>5</th>\n",
       "      <td>12/02/1971</td>\n",
       "      <td>Australia</td>\n",
       "      <td>Australia</td>\n",
       "      <td>Field</td>\n",
       "      <td>England</td>\n",
       "      <td>184</td>\n",
       "      <td>264</td>\n",
       "      <td>302</td>\n",
       "      <td>160</td>\n",
       "      <td>England</td>\n",
       "      <td>won</td>\n",
       "    </tr>\n",
       "    <tr>\n",
       "      <th>6</th>\n",
       "      <td>08/06/1972</td>\n",
       "      <td>England or Wales</td>\n",
       "      <td>England</td>\n",
       "      <td>Bat</td>\n",
       "      <td>England</td>\n",
       "      <td>249</td>\n",
       "      <td>142</td>\n",
       "      <td>234</td>\n",
       "      <td>252</td>\n",
       "      <td>England</td>\n",
       "      <td>won</td>\n",
       "    </tr>\n",
       "    <tr>\n",
       "      <th>7</th>\n",
       "      <td>22/06/1972</td>\n",
       "      <td>England or Wales</td>\n",
       "      <td>England</td>\n",
       "      <td>Bat</td>\n",
       "      <td>England</td>\n",
       "      <td>272</td>\n",
       "      <td>308</td>\n",
       "      <td>116</td>\n",
       "      <td>81</td>\n",
       "      <td>Australia</td>\n",
       "      <td>lost</td>\n",
       "    </tr>\n",
       "    <tr>\n",
       "      <th>8</th>\n",
       "      <td>13/07/1972</td>\n",
       "      <td>England or Wales</td>\n",
       "      <td>England</td>\n",
       "      <td>Field</td>\n",
       "      <td>Australia</td>\n",
       "      <td>315</td>\n",
       "      <td>189</td>\n",
       "      <td>324</td>\n",
       "      <td>290</td>\n",
       "      <td>draw</td>\n",
       "      <td>draw</td>\n",
       "    </tr>\n",
       "    <tr>\n",
       "      <th>9</th>\n",
       "      <td>27/07/1972</td>\n",
       "      <td>England or Wales</td>\n",
       "      <td>Australia</td>\n",
       "      <td>Bat</td>\n",
       "      <td>Australia</td>\n",
       "      <td>146</td>\n",
       "      <td>263</td>\n",
       "      <td>136</td>\n",
       "      <td>21</td>\n",
       "      <td>England</td>\n",
       "      <td>lost</td>\n",
       "    </tr>\n",
       "  </tbody>\n",
       "</table>\n",
       "</div>"
      ],
      "text/plain": [
       "        start              host       toss choice  bat_first  inn1  inn2  \\\n",
       "0  27/11/1970         Australia  Australia    Bat  Australia   433   464   \n",
       "1  11/12/1970         Australia  Australia  Field    England   397   440   \n",
       "2  09/01/1971         Australia    England    Bat    England   332   236   \n",
       "3  21/01/1971         Australia  Australia    Bat  Australia   493   392   \n",
       "4  29/01/1971         Australia    England    Bat    England   470   235   \n",
       "5  12/02/1971         Australia  Australia  Field    England   184   264   \n",
       "6  08/06/1972  England or Wales    England    Bat    England   249   142   \n",
       "7  22/06/1972  England or Wales    England    Bat    England   272   308   \n",
       "8  13/07/1972  England or Wales    England  Field  Australia   315   189   \n",
       "9  27/07/1972  England or Wales  Australia    Bat  Australia   146   263   \n",
       "\n",
       "   inn3  inn4     winner outcome  \n",
       "0   214    39       draw    draw  \n",
       "1   287   100       draw    draw  \n",
       "2   319   116    England     won  \n",
       "3   169   161       draw    draw  \n",
       "4   233   328       draw    draw  \n",
       "5   302   160    England     won  \n",
       "6   234   252    England     won  \n",
       "7   116    81  Australia    lost  \n",
       "8   324   290       draw    draw  \n",
       "9   136    21    England    lost  "
      ]
     },
     "execution_count": 8,
     "metadata": {},
     "output_type": "execute_result"
    }
   ],
   "source": [
    "ash[:10]"
   ]
  },
  {
   "cell_type": "markdown",
   "id": "85c9f630",
   "metadata": {},
   "source": [
    "The variables I've chosen to include here are those that are often regarded as key points in the early stage of the match. In cricket, winning a coin toss offers a team's captain the choice of batting or fielding first, and captains will make this decision based on a number of factors, such as their team's strengths (or their opponent's weaknesses), the weather forecast, or the condition of the pitch. This choice is seen as an immediate advantage, and much pre-match discussion centres around what each captain's likely decision will be. For this reason, I've included the winner of the coin toss, as well as their choice, as variables.\n",
    "\n",
    "The dataset includes the following variables:\n",
    "- <i>start</i>: the first day of the Test match;\n",
    "- <i>host</i>: the location of the match. Some England games are played in Cardiff, hence 'England or Wales'. In the CricInfo engine this is listed as the particular stadium that hosted the match;\n",
    "- <i>toss</i>: the winner of the pre-match coin toss;\n",
    "- <i>choice</i>: the coin toss winner's decision over whether to bat or field first;\n",
    "- <i>bat_first</i>: the team that batted first, the <i>outcome</i> column is grouped from the perspective of this team;\n",
    "- <i>inn1</i>: the respective total in the first innings of the match;\n",
    "- <i>winner</i>: the team that won the match, or 'draw' if neither did;\n",
    "- <i>outcome</i>: the match result from the perspective of the <i>bat_first</i> team. If <i>bat_first</i> equals 'Australia' and <i>winner</i> equals 'England', then <i>outcome</i> equals 'lost'.\n",
    "\n",
    "Any [declared](https://www.lords.org/mcc/the-laws-of-cricket/declaration-and-forfeiture) scores have been changed to a simple innings total to preserve the numeric dimension of the data. Ties, an extremely rare occurrence in cricket, did not occur in a single one of the matches between the two countries in this dataset; indeed they have only occurred twice in the history of Test cricket since 1877, and are notable enough to have a separate [Wikipedia](https://en.wikipedia.org/wiki/Tied_Test) entry. While ties are an omission from the simulated dataset at the end of this notebook, they are a statistically insignificant omission.\n",
    "\n",
    "## Distribution of Variables\n",
    "\n",
    "### The Host\n",
    "\n",
    "The rivalry between England is generally played as part of a bilateral series known as The Ashes, whereby the two teams meet approximately every two years, alternating as hosts. Each series was historically between four and six matches long, but since the mid-1990s has settled on a consistent five-match format. Of the 153 matches that form this dataset, all but six of these matches (all taking place between 1977 and 1988) were contested as part of The Ashes; overall, Australia has hosted 78 games to the 75 in England or Wales. Due to the regularity of the series, as well as the alternation between host countries, this particular variable is best described as binomially-distributed."
   ]
  },
  {
   "cell_type": "code",
   "execution_count": 75,
   "id": "221c36c8",
   "metadata": {},
   "outputs": [
    {
     "data": {
      "image/png": "[encoded data removed]",
      "text/plain": [
       "<Figure size 432x288 with 2 Axes>"
      ]
     },
     "metadata": {
      "needs_background": "light"
     },
     "output_type": "display_data"
    }
   ],
   "source": [
    "# code for historical data based on the tutorial at Python Guides found in the README\n",
    "\n",
    "# number of times each country has hosted a match\n",
    "host = ['england', 'australia']\n",
    "occs = [75, 78]\n",
    "\n",
    "plt.subplot(1, 2, 1)\n",
    "plt.bar(host, occs)\n",
    "\n",
    "# xticks replaces the values generated by the arange function above with the actual value of the result\n",
    "plt.xticks(x_axis, host)\n",
    "plt.title(\"Match hosts, 1970 to present\")\n",
    "\n",
    "# binomially-distributed generated data for simulated England vs Australia matches\n",
    "tests = 200\n",
    "# represents the expected split between hosts in future series\n",
    "host_choice = 0.5\n",
    "sim_tosses = np.random.binomial(1, host_choice, size=tests)\n",
    "\n",
    "vals, counts = np.unique(sim_tosses, return_counts=True)\n",
    "plt.subplot(1, 2, 2)\n",
    "plt.bar(vals, counts, width=0.4)\n",
    "plt.title('Eng vs Aus host simulation')\n",
    "plt.xticks(x_axis, host)\n",
    "plt.show()"
   ]
  },
  {
   "cell_type": "markdown",
   "id": "8eaf1adf",
   "metadata": {},
   "source": [
    "### The Toss and the Captain's Decision\n",
    "\n",
    "I have chosen 1970 as my starting point as this was the period when ground staff at English cricket grounds were no longer permitted to leave pitches [uncovered](https://www.lords.org/mcc/the-laws-of-cricket/covering-the-pitch). Before this, pitches were not sheltered from any adverse weather once a match started, significantly affecting the conditions of the match, pitch quality, and captain's decisions at the toss. \n",
    "\n",
    "Of course, a coin toss is the classic example used for demonstrating binomial distribution, but while the decision to bat or field is a binary choice, it is far from binomially-distributed in the same sense as a coin toss. Leamon and Jones (2021, 175) state that:\n",
    "\n",
    "    \"The vast majority (89 per cent) of captains who won the toss chose to bat, and this resulted in sides who won the toss having a markedly better chance of winning.\"\n",
    "    \n",
    "The same authors argue that this tendency has proven hard to remove in the era of covered pitches, observing that:\n",
    "\n",
    "    \"In Tests played between 1980 and 2010, nearly twice as many captains have batted first than have chosen to bowl.\"\n",
    "\n",
    "The dataset I have extracted reflects this, with 104 teams choosing to bat, and 49 choosing to bowl. Such a disparity between the choices of whether to bat or field would imply some perceived advantage to bowling first, but wider research, and the dataset itself, suggests otherwise."
   ]
  },
  {
   "cell_type": "code",
   "execution_count": 83,
   "id": "05ad17c7",
   "metadata": {},
   "outputs": [
    {
     "data": {
      "image/png": "[encoded data removed]",
      "text/plain": [
       "<Figure size 432x288 with 2 Axes>"
      ]
     },
     "metadata": {
      "needs_background": "light"
     },
     "output_type": "display_data"
    },
    {
     "data": {
      "image/png": "[encoded data removed]",
      "text/plain": [
       "<Figure size 432x288 with 1 Axes>"
      ]
     },
     "metadata": {
      "needs_background": "light"
     },
     "output_type": "display_data"
    }
   ],
   "source": [
    "# representing the 669 tests that occurred before 1970](https://stats.espncricinfo.com/ci/engine/records/team/match_results.html?class=1;id=1969;type=year)\n",
    "# Leamon and Jones: 89 percent of captains chose to bat\n",
    "occs = [595, 74]\n",
    "# number of times each decision has occurred\n",
    "decs = ['bat', 'field']\n",
    "\n",
    "plt.subplot(2, 2, 1)\n",
    "plt.bar(decs, occs)\n",
    "plt.title(\"All Tests before 1970\")\n",
    "\n",
    "# plotting real results of dataset for England vs Australia matches since 1970\n",
    "ashchoice = ash['choice']\n",
    "vals, counts = np.unique(ashchoice, return_counts=True)\n",
    "plt.subplot(2, 2, 2)\n",
    "plt.bar(vals, counts)\n",
    "plt.title(\"Eng vs Aus since 1970\")\n",
    "plt.show()\n",
    "\n",
    "# binomially-distributed generated data for simulated England vs Australia matches\n",
    "toss = 1\n",
    "tests = 200\n",
    "# represents the actual proportions of decisions to either field (49) or bat (104) in the extracted dataset\n",
    "bat_choice = 1 - ( 104 / ( 49 + 104 ) )\n",
    "sim_tosses = np.random.binomial(toss, bat_choice, tests)\n",
    "\n",
    "vals, counts = np.unique(sim_tosses, return_counts=True)\n",
    "plt.subplot(2, 2, 3)\n",
    "plt.bar(vals, counts)\n",
    "plt.title(\"Eng vs Aus toss simulation\")\n",
    "plt.xticks(x_axis, decs)\n",
    "# adding a second show() function to give some space to headers and x-axis labels\n",
    "plt.show()"
   ]
  },
  {
   "cell_type": "markdown",
   "id": "37a9796f",
   "metadata": {},
   "source": [
    "While Lawrence Booth ([CricInfo](https://www.espncricinfo.com/story/cricket-s-turning-points-covered-pitches-461172), 2010) argues that the introduction of covered pitches has brought a \"normalisation of batting conditions all round the world\", the decisions of captains has clearly not yet caught up with the change in match outcomes for batting-first teams that has occurred.\n",
    "\n",
    "To return to Leamon and Jones, they observed that in Tests occurring between 1980 and 2010: \n",
    "\n",
    "    \"The bat-first bias at the toss would seem to be neutral at best, and probably counter-productive.\"\n",
    "    \n",
    "Their data covering all tests from 1970 puts the win rate of teams that batted first (whether it was their decision or that of their opponents) at 36%, with 28% losing and 35% as draws. In their dataset covering 1980 to 2010, this falls to a 31% win rate, with losses rising to 36%, and draws dropping slightly to 33%."
   ]
  },
  {
   "cell_type": "code",
   "execution_count": 10,
   "id": "19fe08c6",
   "metadata": {},
   "outputs": [
    {
     "data": {
      "image/png": "[encoded data removed]",
      "text/plain": [
       "<Figure size 432x288 with 1 Axes>"
      ]
     },
     "metadata": {
      "needs_background": "light"
     },
     "output_type": "display_data"
    }
   ],
   "source": [
    "# code based on the tutorial at Python Guides found in the README\n",
    "# data based on that presented visually in Leamon and Jones (2021, 174-6), in charts \n",
    "# labelled \"Team Batting First - Before 1970\" and \"Team Batting First - 1980-2010\"\n",
    "\n",
    "result = ['win', 'draw', 'loss']\n",
    "before = [36, 35, 28]\n",
    "after = [31, 33, 36]\n",
    "\n",
    "x_axis = np.arange(len(result))\n",
    "\n",
    "# adding or subtracting a value from the x-axis prevents items from overlapping, the exact value being dependent on\n",
    "# the value given to the width parameter.\n",
    "\n",
    "plt.bar(x_axis - 0.2, before, width=0.4, label = 'Before 1970')\n",
    "plt.bar(x_axis + 0.2, after, width=0.4, label = '1980-2010')\n",
    "\n",
    "# Xticks replaces the values generated by the arange function above with the actual value of the result\n",
    "\n",
    "plt.xticks(x_axis, result)\n",
    "\n",
    "plt.legend(loc='lower right')\n",
    "plt.title(\"Match results for teams batting first\")\n",
    "plt.show()"
   ]
  },
  {
   "cell_type": "markdown",
   "id": "76a9d49e",
   "metadata": {},
   "source": [
    "Indeed, of the data I have extracted for England-Australia matches, the team batting first won 42%, the team fielding first 32%, and the other 25% were drawn, figures that are strikingly close to the wider dataset that Leamon and Jones used."
   ]
  },
  {
   "cell_type": "code",
   "execution_count": 11,
   "id": "1679d378",
   "metadata": {},
   "outputs": [
    {
     "data": {
      "image/png": "[encoded data removed]",
      "text/plain": [
       "<Figure size 432x288 with 1 Axes>"
      ]
     },
     "metadata": {
      "needs_background": "light"
     },
     "output_type": "display_data"
    }
   ],
   "source": [
    "plt.hist(ash['outcome'])\n",
    "plt.title(\"Match results for teams batting first (England vs. Australia Test matches, 1970-2022)\")\n",
    "plt.show()"
   ]
  },
  {
   "cell_type": "markdown",
   "id": "d54b4b34",
   "metadata": {},
   "source": [
    "While there was previously a slight advantage to batting first, this is no longer the case.\n",
    "\n",
    "NEED TO DETERMINE DISTRIBUTION FOR THIS DATA\n",
    "\n",
    "### First Innings Scores\n",
    "\n",
    "Of course, once the match starts, the idea is for teams to score as many runs as possible, while leaving enough time to remove ten of their opponent's eleven (there must always be two on the field at the same time) batters. If a team has not completed both of their innings after the allocated five days, then the match is a draw. The most famous draws are those that occur against all odds, and:\n",
    "\n",
    "    \"a reminder that cricket isn’t merely about wins and losses... uncompromising and unpredictable; it was Test match cricket at its purest.\" (Lavalette, 2018)\n",
    "    \n",
    "The logical conclusion is that there is a theoretical ceiling to the number of runs a team is likely to score in any innings, even if they could score as many as they liked. This is one of the many things that sets cricket apart from other sports, it is as if a football team scored three times as many goals as their opponent, but the match was deemed a draw because their opponent had less shots on target.\n",
    "\n",
    "At the time of writing, a match between England and Pakistan is almost certainly headed for a draw after an extremely bat-friendly pitch in Rawalpindi produced 657 runs in England's first innings, and over 500 in Pakistan's, leading one cricket writer to opine that, \"Big runs get you headlines - and a few records - but wickets win you matches.\" ([Ehantharajah](https://www.espncricinfo.com/story/pakistan-vs-england-1st-test-rawalpindi-england-feel-the-funk-in-bid-to-overcome-unforgiving-pindi-pitch-1347874), 2022).\n",
    "\n",
    "Returning to the extracted dataset, a 657 would rank higher than any first-innings total achieved in an England vs Australia fixture since 1970, while Pakistan's 579 would rank 8th in second-innings scores. run query again to see how many of those top scores are declarations, highlighting that theoretical ceiling\n",
    "\n",
    "Place England's 657 in Rawalpindi in context, where does it fall amongst all first innings scores in the extract?, clarify Pakistan's first-innings score\n",
    "\n",
    "\n",
    "\n",
    "\n",
    "\n",
    "MORE INFORMATION HERE ABOUT AVERAGE SCORES, SEE P177, ONE CHART PER VARIABLE, PERHAPS NOT JUST HISTOGRAMS\n",
    "\n",
    "DIAGRAM OF WINNER\n",
    "\n",
    "DIAGRAM OF OUTCOME\n",
    "\n",
    "Plot each variable against outcome\n",
    "\n"
   ]
  },
  {
   "cell_type": "code",
   "execution_count": 93,
   "id": "37cef026",
   "metadata": {},
   "outputs": [
    {
     "data": {
      "image/png": "[encoded data removed]",
      "text/plain": [
       "<Figure size 432x288 with 1 Axes>"
      ]
     },
     "metadata": {
      "needs_background": "light"
     },
     "output_type": "display_data"
    }
   ],
   "source": [
    "first = ash['inn1']\n",
    "\n",
    "plt.title(\"First Innings Scores\")\n",
    "plt.hist(first, bins=15)\n",
    "plt.show()"
   ]
  },
  {
   "cell_type": "code",
   "execution_count": 98,
   "id": "5214835a",
   "metadata": {},
   "outputs": [
    {
     "ename": "AttributeError",
     "evalue": "module 'matplotlib.pyplot' has no attribute 'line'",
     "output_type": "error",
     "traceback": [
      "\u001b[1;31m---------------------------------------------------------------------------\u001b[0m",
      "\u001b[1;31mAttributeError\u001b[0m                            Traceback (most recent call last)",
      "Input \u001b[1;32mIn [98]\u001b[0m, in \u001b[0;36m<cell line: 3>\u001b[1;34m()\u001b[0m\n\u001b[0;32m      1\u001b[0m inns2 \u001b[38;5;241m=\u001b[39m ash[[\u001b[38;5;124m'\u001b[39m\u001b[38;5;124mbat_first\u001b[39m\u001b[38;5;124m'\u001b[39m,\u001b[38;5;124m'\u001b[39m\u001b[38;5;124minn1\u001b[39m\u001b[38;5;124m'\u001b[39m]]\n\u001b[1;32m----> 3\u001b[0m \u001b[43mplt\u001b[49m\u001b[38;5;241;43m.\u001b[39;49m\u001b[43mline\u001b[49m(inns2,hue\u001b[38;5;241m=\u001b[39m\u001b[38;5;124m'\u001b[39m\u001b[38;5;124mbat_first\u001b[39m\u001b[38;5;124m'\u001b[39m)\n",
      "\u001b[1;31mAttributeError\u001b[0m: module 'matplotlib.pyplot' has no attribute 'line'"
     ]
    }
   ],
   "source": [
    "inns2 = ash[['bat_first','inn1']]\n",
    "\n",
    "# make a better version of this\n",
    "plt.line(inns2,hue='bat_first')"
   ]
  },
  {
   "cell_type": "markdown",
   "id": "b932f214",
   "metadata": {},
   "source": [
    "## Evaluation\n",
    "\n",
    "Cricket is an infinitely complex sport full of discrete data points. Unlike other sports, cricket contains pretty much a complete dataset of every event that occurs\n",
    "- lack of declaration data\n",
    "- hard to generate clustered dates\n",
    "- exclusion of second-, third- and fourth-innings scores, too many scenarios to work with, if a team bats second and fails to come within 250 runs of the first-innings total, the opposition captain can enforce a [follow-on](https://www.lords.org/mcc/the-laws-of-cricket/the-follow-on), where the team batting second bats the third innings. While this data is obtainable in the query engine, there were too many permutations given the time I had to complete the assignment\n",
    "- some games do not have a fourth inning, either because the team following-on fails to get a total with their two innings that surpasses that of their opponent, or the game is significantly curtailed by adverse conditions.\n",
    "- different grounds are known for being particularly unforgiving to opponents, such as the Gabba in Brisbane (L&J, 174). Again this data is available in the query engine, but I opted for a simpler binary model of host country\n"
   ]
  },
  {
   "cell_type": "code",
   "execution_count": null,
   "id": "b585eb6f",
   "metadata": {},
   "outputs": [],
   "source": []
  }
 ],
 "metadata": {
  "kernelspec": {
   "display_name": "Python 3 (ipykernel)",
   "language": "python",
   "name": "python3"
  },
  "language_info": {
   "codemirror_mode": {
    "name": "ipython",
    "version": 3
   },
   "file_extension": ".py",
   "mimetype": "text/x-python",
   "name": "python",
   "nbconvert_exporter": "python",
   "pygments_lexer": "ipython3",
   "version": "3.9.12"
  }
 },
 "nbformat": 4,
 "nbformat_minor": 5
}
